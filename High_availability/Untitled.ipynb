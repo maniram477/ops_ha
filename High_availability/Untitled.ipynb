{
 "cells": [
  {
   "cell_type": "code",
   "execution_count": 2,
   "metadata": {
    "collapsed": false
   },
   "outputs": [],
   "source": [
    "from common_functions import *\n",
    "from ha_agent import *\n",
    "neutron = neutron_client.Client(username=user,\n",
    "                                            password=passwd,\n",
    "                                            tenant_name=tenant,\n",
    "                                            auth_url=\"http://%s:5000/v2.0\"%controller_ip)\n",
    "cinder = cinder_client.Client(1,user,passwd,tenant,\"http://%s:5000/v2.0\"%controller_ip)\n",
    "nova = nova_client.Client(2,user,passwd,tenant,\"http://%s:5000/v2.0\"%controller_ip,connection_pool=True)"
   ]
  },
  {
   "cell_type": "code",
   "execution_count": 3,
   "metadata": {
    "collapsed": false
   },
   "outputs": [
    {
     "name": "stdout",
     "output_type": "stream",
     "text": [
      "2016-09-10 11:12:19,003 - ha_agent - DEBUG - Inside the info_collection...!\n",
      "2016-09-10 11:12:19,004 - novaclient.client - DEBUG - New session created for: (http://30.20.0.9:5000)\n",
      "2016-09-10 11:12:19,162 - novaclient.client - DEBUG - New session created for: (http://172.30.64.11:8774)\n",
      "2016-09-10 11:12:20,121 - ha_agent - DEBUG - Information Collected\n",
      "2016-09-10 11:12:20,122 - ha_agent - DEBUG - Extra Volume Detached\n",
      "2016-09-10 11:12:20,649 - ha_agent - WARNING - Exception in deleting instance...!\n",
      "2016-09-10 11:12:20,650 - ha_agent - ERROR - \n",
      "Traceback (most recent call last):\n",
      "  File \"common_functions.py\", line 191, in delete_instance_status\n",
      "    raise Exception(\"poll\")\n",
      "Exception: poll\n",
      "2016-09-10 11:12:30,871 - ha_agent - WARNING - Exception in deleting instance...!\n",
      "2016-09-10 11:12:30,874 - ha_agent - ERROR - \n",
      "Traceback (most recent call last):\n",
      "  File \"common_functions.py\", line 191, in delete_instance_status\n",
      "    raise Exception(\"poll\")\n",
      "Exception: poll\n",
      "2016-09-10 11:12:40,940 - ha_agent - WARNING - Exception in deleting instance...!\n",
      "2016-09-10 11:12:40,942 - ha_agent - ERROR - \n",
      "Traceback (most recent call last):\n",
      "  File \"common_functions.py\", line 186, in delete_instance_status\n",
      "    tmp_ins = nova.servers.get(instance_object.id)\n",
      "  File \"/usr/lib/python2.7/dist-packages/novaclient/v2/servers.py\", line 532, in get\n",
      "    return self._get(\"/servers/%s\" % base.getid(server), \"server\")\n",
      "  File \"/usr/lib/python2.7/dist-packages/novaclient/base.py\", line 156, in _get\n",
      "    _resp, body = self.api.client.get(url)\n",
      "  File \"/usr/lib/python2.7/dist-packages/novaclient/client.py\", line 444, in get\n",
      "    return self._cs_request(url, 'GET', **kwargs)\n",
      "  File \"/usr/lib/python2.7/dist-packages/novaclient/client.py\", line 422, in _cs_request\n",
      "    resp, body = self._time_request(url, method, **kwargs)\n",
      "  File \"/usr/lib/python2.7/dist-packages/novaclient/client.py\", line 393, in _time_request\n",
      "    resp, body = self.request(url, method, **kwargs)\n",
      "  File \"/usr/lib/python2.7/dist-packages/novaclient/client.py\", line 387, in request\n",
      "    raise exceptions.from_response(resp, body, url, method)\n",
      "NotFound: Instance 242fcee8-70b7-4ba9-bcf2-ecfbc458cf37 could not be found. (HTTP 404) (Request-ID: req-83178e70-a01e-40d1-8d64-f3663d2bf6e3)\n",
      "2016-09-10 11:12:40,943 - ha_agent - DEBUG - Instance Not Found hence deleted\n",
      "2016-09-10 11:12:40,944 - ha_agent - DEBUG - Old Instance deleted\n",
      "2016-09-10 11:12:42,280 - ha_agent - WARNING - Exception: checking the instance status after creation...!\n",
      "2016-09-10 11:12:42,281 - ha_agent - ERROR - \n",
      "Traceback (most recent call last):\n",
      "  File \"common_functions.py\", line 254, in create_instance_status\n",
      "    raise Exception(\"poll\")\n",
      "Exception: poll\n",
      "2016-09-10 11:12:52,617 - ha_agent - DEBUG - After creation:  Instance in active state\n",
      "2016-09-10 11:12:52,618 - ha_agent - DEBUG - Recreate Finished\n",
      "2016-09-10 11:12:53,846 - ha_agent - DEBUG - Floating IP attached Successfully\n",
      "2016-09-10 11:12:54,493 - ha_agent - DEBUG - Volume attached Successfully\n",
      "2016-09-10 11:12:54,493 - ha_agent - DEBUG - Inside the info_collection...!\n",
      "2016-09-10 11:12:55,131 - ha_agent - WARNING - Exception:cinder_volume_check\n",
      "2016-09-10 11:12:55,131 - ha_agent - ERROR - \n",
      "Traceback (most recent call last):\n",
      "  File \"common_functions.py\", line 310, in cinder_volume_check\n",
      "    volumes = {cinder.volumes.get(x['id']).attachments[0]['device']:x['id'] for x in info.get('os-extended-volumes:volumes_attached') }\n",
      "  File \"common_functions.py\", line 310, in <dictcomp>\n",
      "    volumes = {cinder.volumes.get(x['id']).attachments[0]['device']:x['id'] for x in info.get('os-extended-volumes:volumes_attached') }\n",
      "IndexError: list index out of range\n",
      "2016-09-10 11:12:55,132 - ha_agent - DEBUG - Information Collected\n",
      "2016-09-10 11:12:55,258 - ha_agent - DEBUG - Information Collected\n",
      "2016-09-10 11:12:55,530 - ha_agent - DEBUG - Successfull Migration.Adding to Migrated zNode\n",
      "2016-09-10 11:12:55,542 - ha_agent - DEBUG - Removing Instance from pending\n"
     ]
    },
    {
     "ename": "NoNodeError",
     "evalue": "((), {})",
     "output_type": "error",
     "traceback": [
      "\u001b[0;31m--------------------------------------------------------------------\u001b[0m",
      "\u001b[0;31mNoNodeError\u001b[0m                        Traceback (most recent call last)",
      "\u001b[0;32m<ipython-input-3-9a3b55f92a62>\u001b[0m in \u001b[0;36m<module>\u001b[0;34m()\u001b[0m\n\u001b[0;32m----> 1\u001b[0;31m \u001b[0mmigrate\u001b[0m\u001b[0;34m(\u001b[0m\u001b[0;34m\"242fcee8-70b7-4ba9-bcf2-ecfbc458cf37\"\u001b[0m\u001b[0;34m)\u001b[0m\u001b[0;34m\u001b[0m\u001b[0m\n\u001b[0m",
      "\u001b[0;32m/root/ha_tools/local/lib/python2.7/site-packages/celery/local.pyc\u001b[0m in \u001b[0;36m__call__\u001b[0;34m(self, *a, **kw)\u001b[0m\n\u001b[1;32m    186\u001b[0m \u001b[0;34m\u001b[0m\u001b[0m\n\u001b[1;32m    187\u001b[0m     \u001b[0;32mdef\u001b[0m \u001b[0m__call__\u001b[0m\u001b[0;34m(\u001b[0m\u001b[0mself\u001b[0m\u001b[0;34m,\u001b[0m \u001b[0;34m*\u001b[0m\u001b[0ma\u001b[0m\u001b[0;34m,\u001b[0m \u001b[0;34m**\u001b[0m\u001b[0mkw\u001b[0m\u001b[0;34m)\u001b[0m\u001b[0;34m:\u001b[0m\u001b[0;34m\u001b[0m\u001b[0m\n\u001b[0;32m--> 188\u001b[0;31m         \u001b[0;32mreturn\u001b[0m \u001b[0mself\u001b[0m\u001b[0;34m.\u001b[0m\u001b[0m_get_current_object\u001b[0m\u001b[0;34m(\u001b[0m\u001b[0;34m)\u001b[0m\u001b[0;34m(\u001b[0m\u001b[0;34m*\u001b[0m\u001b[0ma\u001b[0m\u001b[0;34m,\u001b[0m \u001b[0;34m**\u001b[0m\u001b[0mkw\u001b[0m\u001b[0;34m)\u001b[0m\u001b[0;34m\u001b[0m\u001b[0m\n\u001b[0m\u001b[1;32m    189\u001b[0m \u001b[0;34m\u001b[0m\u001b[0m\n\u001b[1;32m    190\u001b[0m     \u001b[0;32mdef\u001b[0m \u001b[0m__len__\u001b[0m\u001b[0;34m(\u001b[0m\u001b[0mself\u001b[0m\u001b[0;34m)\u001b[0m\u001b[0;34m:\u001b[0m\u001b[0;34m\u001b[0m\u001b[0m\n",
      "\u001b[0;32m/root/ha_tools/local/lib/python2.7/site-packages/celery/app/task.pyc\u001b[0m in \u001b[0;36m__call__\u001b[0;34m(self, *args, **kwargs)\u001b[0m\n\u001b[1;32m    418\u001b[0m             \u001b[0;32mif\u001b[0m \u001b[0mself\u001b[0m\u001b[0;34m.\u001b[0m\u001b[0m__self__\u001b[0m \u001b[0;32mis\u001b[0m \u001b[0;32mnot\u001b[0m \u001b[0mNone\u001b[0m\u001b[0;34m:\u001b[0m\u001b[0;34m\u001b[0m\u001b[0m\n\u001b[1;32m    419\u001b[0m                 \u001b[0;32mreturn\u001b[0m \u001b[0mself\u001b[0m\u001b[0;34m.\u001b[0m\u001b[0mrun\u001b[0m\u001b[0;34m(\u001b[0m\u001b[0mself\u001b[0m\u001b[0;34m.\u001b[0m\u001b[0m__self__\u001b[0m\u001b[0;34m,\u001b[0m \u001b[0;34m*\u001b[0m\u001b[0margs\u001b[0m\u001b[0;34m,\u001b[0m \u001b[0;34m**\u001b[0m\u001b[0mkwargs\u001b[0m\u001b[0;34m)\u001b[0m\u001b[0;34m\u001b[0m\u001b[0m\n\u001b[0;32m--> 420\u001b[0;31m             \u001b[0;32mreturn\u001b[0m \u001b[0mself\u001b[0m\u001b[0;34m.\u001b[0m\u001b[0mrun\u001b[0m\u001b[0;34m(\u001b[0m\u001b[0;34m*\u001b[0m\u001b[0margs\u001b[0m\u001b[0;34m,\u001b[0m \u001b[0;34m**\u001b[0m\u001b[0mkwargs\u001b[0m\u001b[0;34m)\u001b[0m\u001b[0;34m\u001b[0m\u001b[0m\n\u001b[0m\u001b[1;32m    421\u001b[0m         \u001b[0;32mfinally\u001b[0m\u001b[0;34m:\u001b[0m\u001b[0;34m\u001b[0m\u001b[0m\n\u001b[1;32m    422\u001b[0m             \u001b[0mself\u001b[0m\u001b[0;34m.\u001b[0m\u001b[0mpop_request\u001b[0m\u001b[0;34m(\u001b[0m\u001b[0;34m)\u001b[0m\u001b[0;34m\u001b[0m\u001b[0m\n",
      "\u001b[0;32m/root/ha_tools/ops_ha/High_availability/ha_agent.pyc\u001b[0m in \u001b[0;36mmigrate\u001b[0;34m(instance_id)\u001b[0m\n\u001b[1;32m    138\u001b[0m         \u001b[0mzk\u001b[0m\u001b[0;34m.\u001b[0m\u001b[0mstart\u001b[0m\u001b[0;34m(\u001b[0m\u001b[0;34m)\u001b[0m\u001b[0;34m\u001b[0m\u001b[0m\n\u001b[1;32m    139\u001b[0m         \u001b[0mha_agent\u001b[0m\u001b[0;34m.\u001b[0m\u001b[0mdebug\u001b[0m\u001b[0;34m(\u001b[0m\u001b[0;34m\"Removing Instance from pending\"\u001b[0m\u001b[0;34m)\u001b[0m\u001b[0;34m\u001b[0m\u001b[0m\n\u001b[0;32m--> 140\u001b[0;31m         \u001b[0mzk\u001b[0m\u001b[0;34m.\u001b[0m\u001b[0mdelete\u001b[0m\u001b[0;34m(\u001b[0m\u001b[0;34m\"/openstack_ha/instances/pending/\"\u001b[0m\u001b[0;34m+\u001b[0m\u001b[0mtmp_host\u001b[0m\u001b[0;34m+\u001b[0m\u001b[0;34m\"/\"\u001b[0m\u001b[0;34m+\u001b[0m\u001b[0minstance_id\u001b[0m\u001b[0;34m)\u001b[0m\u001b[0;34m\u001b[0m\u001b[0m\n\u001b[0m\u001b[1;32m    141\u001b[0m         \u001b[0;31m#zk.delete(\"/openstack_ha/instances/pending/\"+instance_id)\u001b[0m\u001b[0;34m\u001b[0m\u001b[0;34m\u001b[0m\u001b[0m\n\u001b[1;32m    142\u001b[0m \u001b[0;34m\u001b[0m\u001b[0m\n",
      "\u001b[0;32m/root/ha_tools/local/lib/python2.7/site-packages/kazoo/client.pyc\u001b[0m in \u001b[0;36mdelete\u001b[0;34m(self, path, version, recursive)\u001b[0m\n\u001b[1;32m   1291\u001b[0m             \u001b[0;32mreturn\u001b[0m \u001b[0mself\u001b[0m\u001b[0;34m.\u001b[0m\u001b[0m_delete_recursive\u001b[0m\u001b[0;34m(\u001b[0m\u001b[0mpath\u001b[0m\u001b[0;34m)\u001b[0m\u001b[0;34m\u001b[0m\u001b[0m\n\u001b[1;32m   1292\u001b[0m         \u001b[0;32melse\u001b[0m\u001b[0;34m:\u001b[0m\u001b[0;34m\u001b[0m\u001b[0m\n\u001b[0;32m-> 1293\u001b[0;31m             \u001b[0;32mreturn\u001b[0m \u001b[0mself\u001b[0m\u001b[0;34m.\u001b[0m\u001b[0mdelete_async\u001b[0m\u001b[0;34m(\u001b[0m\u001b[0mpath\u001b[0m\u001b[0;34m,\u001b[0m \u001b[0mversion\u001b[0m\u001b[0;34m)\u001b[0m\u001b[0;34m.\u001b[0m\u001b[0mget\u001b[0m\u001b[0;34m(\u001b[0m\u001b[0;34m)\u001b[0m\u001b[0;34m\u001b[0m\u001b[0m\n\u001b[0m\u001b[1;32m   1294\u001b[0m \u001b[0;34m\u001b[0m\u001b[0m\n\u001b[1;32m   1295\u001b[0m     \u001b[0;32mdef\u001b[0m \u001b[0mdelete_async\u001b[0m\u001b[0;34m(\u001b[0m\u001b[0mself\u001b[0m\u001b[0;34m,\u001b[0m \u001b[0mpath\u001b[0m\u001b[0;34m,\u001b[0m \u001b[0mversion\u001b[0m\u001b[0;34m=\u001b[0m\u001b[0;34m-\u001b[0m\u001b[0;36m1\u001b[0m\u001b[0;34m)\u001b[0m\u001b[0;34m:\u001b[0m\u001b[0;34m\u001b[0m\u001b[0m\n",
      "\u001b[0;32m/root/ha_tools/local/lib/python2.7/site-packages/kazoo/handlers/utils.pyc\u001b[0m in \u001b[0;36mget\u001b[0;34m(self, block, timeout)\u001b[0m\n\u001b[1;32m     76\u001b[0m                     \u001b[0;32mif\u001b[0m \u001b[0mself\u001b[0m\u001b[0;34m.\u001b[0m\u001b[0m_exception\u001b[0m \u001b[0;32mis\u001b[0m \u001b[0mNone\u001b[0m\u001b[0;34m:\u001b[0m\u001b[0;34m\u001b[0m\u001b[0m\n\u001b[1;32m     77\u001b[0m                         \u001b[0;32mreturn\u001b[0m \u001b[0mself\u001b[0m\u001b[0;34m.\u001b[0m\u001b[0mvalue\u001b[0m\u001b[0;34m\u001b[0m\u001b[0m\n\u001b[0;32m---> 78\u001b[0;31m                     \u001b[0;32mraise\u001b[0m \u001b[0mself\u001b[0m\u001b[0;34m.\u001b[0m\u001b[0m_exception\u001b[0m\u001b[0;34m\u001b[0m\u001b[0m\n\u001b[0m\u001b[1;32m     79\u001b[0m \u001b[0;34m\u001b[0m\u001b[0m\n\u001b[1;32m     80\u001b[0m             \u001b[0;31m# if we get to this point we timeout\u001b[0m\u001b[0;34m\u001b[0m\u001b[0;34m\u001b[0m\u001b[0m\n",
      "\u001b[0;31mNoNodeError\u001b[0m: ((), {})"
     ]
    }
   ],
   "source": [
    "migrate(\"242fcee8-70b7-4ba9-bcf2-ecfbc458cf37\")"
   ]
  },
  {
   "cell_type": "code",
   "execution_count": 13,
   "metadata": {
    "collapsed": false
   },
   "outputs": [
    {
     "name": "stdout",
     "output_type": "stream",
     "text": [
      "2016-09-10 10:52:25,839 - ha_agent - DEBUG - Inside the info_collection...!\n"
     ]
    }
   ],
   "source": [
    " instance_object,info,ip_list,bdm,extra = info_collection(nova,'66f08848-df22-4d94-8f70-7c766bcff5b6',cinder)"
   ]
  },
  {
   "cell_type": "code",
   "execution_count": 14,
   "metadata": {
    "collapsed": true
   },
   "outputs": [],
   "source": [
    "nics = get_fixed_ip(info,neutron)"
   ]
  },
  {
   "cell_type": "code",
   "execution_count": 15,
   "metadata": {
    "collapsed": false
   },
   "outputs": [
    {
     "name": "stdout",
     "output_type": "stream",
     "text": [
      "[{'net-id': u'28a043bf-6806-4806-9fa4-d05062ca20be', u'v4-fixed-ip': u'40.20.0.13'}]\n"
     ]
    }
   ],
   "source": [
    "print(nics)"
   ]
  },
  {
   "cell_type": "code",
   "execution_count": 12,
   "metadata": {
    "collapsed": false
   },
   "outputs": [
    {
     "name": "stdout",
     "output_type": "stream",
     "text": [
      "tedsafa\n"
     ]
    }
   ],
   "source": [
    "if not nics:\n",
    "    print(\"tedsafa\")"
   ]
  },
  {
   "cell_type": "code",
   "execution_count": 11,
   "metadata": {
    "collapsed": true
   },
   "outputs": [],
   "source": [
    "nics=[]"
   ]
  },
  {
   "cell_type": "code",
   "execution_count": null,
   "metadata": {
    "collapsed": true
   },
   "outputs": [],
   "source": [
    "if ni"
   ]
  }
 ],
 "metadata": {
  "kernelspec": {
   "display_name": "Python 2",
   "language": "python",
   "name": "python2"
  },
  "language_info": {
   "codemirror_mode": {
    "name": "ipython",
    "version": 2
   },
   "file_extension": ".py",
   "mimetype": "text/x-python",
   "name": "python",
   "nbconvert_exporter": "python",
   "pygments_lexer": "ipython2",
   "version": "2.7.6"
  }
 },
 "nbformat": 4,
 "nbformat_minor": 1
}
