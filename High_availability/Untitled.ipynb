{
 "cells": [
  {
   "cell_type": "code",
   "execution_count": 2,
   "metadata": {
    "collapsed": false
   },
   "outputs": [],
   "source": [
    "from common_functions import *\n",
    "neutron = neutron_client.Client(username=user,\n",
    "                                            password=passwd,\n",
    "                                            tenant_name=tenant,\n",
    "                                            auth_url=\"http://%s:5000/v2.0\"%controller_ip)\n",
    "cinder = cinder_client.Client(1,user,passwd,tenant,\"http://%s:5000/v2.0\"%controller_ip)\n",
    "nova = nova_client.Client(2,user,passwd,tenant,\"http://%s:5000/v2.0\"%controller_ip,connection_pool=True)\n",
    "from ha_agent import *\n"
   ]
  },
  {
   "cell_type": "markdown",
   "metadata": {},
   "source": []
  },
  {
   "cell_type": "code",
   "execution_count": 2,
   "metadata": {
    "collapsed": false
   },
   "outputs": [
    {
     "name": "stdout",
     "output_type": "stream",
     "text": [
      "2016-09-08 09:33:37,770 - ha_agent - DEBUG - Inside the info_collection...!\n",
      "2016-09-08 09:33:37,772 - novaclient.client - DEBUG - New session created for: (http://30.20.0.9:5000)\n",
      "2016-09-08 09:33:37,937 - novaclient.client - DEBUG - New session created for: (http://172.30.64.11:8774)\n",
      "2016-09-08 09:33:38,909 - ha_agent - DEBUG - Information Collected\n",
      "2016-09-08 09:33:38,910 - ha_agent - DEBUG - Extra Volume Detached\n",
      "2016-09-08 09:33:39,509 - ha_agent - WARNING - Exception in deleting instance...!\n",
      "2016-09-08 09:33:39,510 - ha_agent - ERROR - \n",
      "Traceback (most recent call last):\n",
      "  File \"common_functions.py\", line 190, in delete_instance_status\n",
      "    raise Exception(\"poll\")\n",
      "Exception: poll\n",
      "2016-09-08 09:33:49,565 - ha_agent - WARNING - Exception in deleting instance...!\n",
      "2016-09-08 09:33:49,567 - ha_agent - ERROR - \n",
      "Traceback (most recent call last):\n",
      "  File \"common_functions.py\", line 185, in delete_instance_status\n",
      "    tmp_ins = nova.servers.get(instance_object.id)\n",
      "  File \"/usr/lib/python2.7/dist-packages/novaclient/v2/servers.py\", line 532, in get\n",
      "    return self._get(\"/servers/%s\" % base.getid(server), \"server\")\n",
      "  File \"/usr/lib/python2.7/dist-packages/novaclient/base.py\", line 156, in _get\n",
      "    _resp, body = self.api.client.get(url)\n",
      "  File \"/usr/lib/python2.7/dist-packages/novaclient/client.py\", line 444, in get\n",
      "    return self._cs_request(url, 'GET', **kwargs)\n",
      "  File \"/usr/lib/python2.7/dist-packages/novaclient/client.py\", line 422, in _cs_request\n",
      "    resp, body = self._time_request(url, method, **kwargs)\n",
      "  File \"/usr/lib/python2.7/dist-packages/novaclient/client.py\", line 393, in _time_request\n",
      "    resp, body = self.request(url, method, **kwargs)\n",
      "  File \"/usr/lib/python2.7/dist-packages/novaclient/client.py\", line 387, in request\n",
      "    raise exceptions.from_response(resp, body, url, method)\n",
      "NotFound: Instance e3447db6-b619-4e3f-8673-1605cd1e655a could not be found. (HTTP 404) (Request-ID: req-2bf3a732-cece-4559-8355-4695bddd9f38)\n",
      "2016-09-08 09:33:49,569 - ha_agent - DEBUG - Instance Not Found hence deleted\n",
      "2016-09-08 09:33:49,570 - ha_agent - DEBUG - Old Instance deleted\n",
      "2016-09-08 09:33:52,101 - ha_agent - WARNING - Exception: checking the instance status after creation...!\n",
      "2016-09-08 09:33:52,104 - ha_agent - ERROR - \n",
      "Traceback (most recent call last):\n",
      "  File \"common_functions.py\", line 253, in create_instance_status\n",
      "    raise Exception(\"poll\")\n",
      "Exception: poll\n",
      "2016-09-08 09:34:02,381 - ha_agent - WARNING - Exception: checking the instance status after creation...!\n",
      "2016-09-08 09:34:02,382 - ha_agent - ERROR - \n",
      "Traceback (most recent call last):\n",
      "  File \"common_functions.py\", line 253, in create_instance_status\n",
      "    raise Exception(\"poll\")\n",
      "Exception: poll\n",
      "2016-09-08 09:34:12,699 - ha_agent - DEBUG - After creation:  Instance in active state\n",
      "2016-09-08 09:34:12,700 - ha_agent - DEBUG - Recreate Finished\n",
      "2016-09-08 09:34:14,264 - ha_agent - DEBUG - Floating IP attached Successfully\n",
      "2016-09-08 09:34:14,265 - ha_agent - DEBUG - Volume attached Successfully\n",
      "2016-09-08 09:34:14,267 - ha_agent - DEBUG - Inside the info_collection...!\n",
      "2016-09-08 09:34:14,812 - ha_agent - DEBUG - Information Collected\n",
      "new instance details.........!\n",
      "{'volume': {'vda': u'26fe9c34-f467-4a2d-b5e4-db7d79a5ed08'}, 'instance_id': u'f557203b-f799-43ce-9e39-cbe37fd1d71e', 'fixed_ip': u'40.20.0.21', 'folating_ip': u'172.30.64.77', 'instance_name': u'ha-5', 'host_name': u'node-3.domain.tld'}\n",
      "2016-09-08 09:34:15,099 - ha_agent - DEBUG - Successfull Migration.Adding to Migrated zNode\n",
      "2016-09-08 09:34:25,145 - ha_agent - DEBUG - Removing Instance from pending\n"
     ]
    },
    {
     "ename": "NoNodeError",
     "evalue": "((), {})",
     "output_type": "error",
     "traceback": [
      "\u001b[0;31m---------------------------------------------------------------------------\u001b[0m",
      "\u001b[0;31mNoNodeError\u001b[0m                               Traceback (most recent call last)",
      "\u001b[0;32m<ipython-input-2-08d6748588f5>\u001b[0m in \u001b[0;36m<module>\u001b[0;34m()\u001b[0m\n\u001b[0;32m----> 1\u001b[0;31m \u001b[0mmigrate\u001b[0m\u001b[0;34m(\u001b[0m\u001b[0;34m'e3447db6-b619-4e3f-8673-1605cd1e655a'\u001b[0m\u001b[0;34m)\u001b[0m\u001b[0;34m\u001b[0m\u001b[0m\n\u001b[0m",
      "\u001b[0;32m/root/ha_tools/local/lib/python2.7/site-packages/celery/local.pyc\u001b[0m in \u001b[0;36m__call__\u001b[0;34m(self, *a, **kw)\u001b[0m\n\u001b[1;32m    186\u001b[0m \u001b[0;34m\u001b[0m\u001b[0m\n\u001b[1;32m    187\u001b[0m     \u001b[0;32mdef\u001b[0m \u001b[0m__call__\u001b[0m\u001b[0;34m(\u001b[0m\u001b[0mself\u001b[0m\u001b[0;34m,\u001b[0m \u001b[0;34m*\u001b[0m\u001b[0ma\u001b[0m\u001b[0;34m,\u001b[0m \u001b[0;34m**\u001b[0m\u001b[0mkw\u001b[0m\u001b[0;34m)\u001b[0m\u001b[0;34m:\u001b[0m\u001b[0;34m\u001b[0m\u001b[0m\n\u001b[0;32m--> 188\u001b[0;31m         \u001b[0;32mreturn\u001b[0m \u001b[0mself\u001b[0m\u001b[0;34m.\u001b[0m\u001b[0m_get_current_object\u001b[0m\u001b[0;34m(\u001b[0m\u001b[0;34m)\u001b[0m\u001b[0;34m(\u001b[0m\u001b[0;34m*\u001b[0m\u001b[0ma\u001b[0m\u001b[0;34m,\u001b[0m \u001b[0;34m**\u001b[0m\u001b[0mkw\u001b[0m\u001b[0;34m)\u001b[0m\u001b[0;34m\u001b[0m\u001b[0m\n\u001b[0m\u001b[1;32m    189\u001b[0m \u001b[0;34m\u001b[0m\u001b[0m\n\u001b[1;32m    190\u001b[0m     \u001b[0;32mdef\u001b[0m \u001b[0m__len__\u001b[0m\u001b[0;34m(\u001b[0m\u001b[0mself\u001b[0m\u001b[0;34m)\u001b[0m\u001b[0;34m:\u001b[0m\u001b[0;34m\u001b[0m\u001b[0m\n",
      "\u001b[0;32m/root/ha_tools/local/lib/python2.7/site-packages/celery/app/task.pyc\u001b[0m in \u001b[0;36m__call__\u001b[0;34m(self, *args, **kwargs)\u001b[0m\n\u001b[1;32m    418\u001b[0m             \u001b[0;32mif\u001b[0m \u001b[0mself\u001b[0m\u001b[0;34m.\u001b[0m\u001b[0m__self__\u001b[0m \u001b[0;32mis\u001b[0m \u001b[0;32mnot\u001b[0m \u001b[0mNone\u001b[0m\u001b[0;34m:\u001b[0m\u001b[0;34m\u001b[0m\u001b[0m\n\u001b[1;32m    419\u001b[0m                 \u001b[0;32mreturn\u001b[0m \u001b[0mself\u001b[0m\u001b[0;34m.\u001b[0m\u001b[0mrun\u001b[0m\u001b[0;34m(\u001b[0m\u001b[0mself\u001b[0m\u001b[0;34m.\u001b[0m\u001b[0m__self__\u001b[0m\u001b[0;34m,\u001b[0m \u001b[0;34m*\u001b[0m\u001b[0margs\u001b[0m\u001b[0;34m,\u001b[0m \u001b[0;34m**\u001b[0m\u001b[0mkwargs\u001b[0m\u001b[0;34m)\u001b[0m\u001b[0;34m\u001b[0m\u001b[0m\n\u001b[0;32m--> 420\u001b[0;31m             \u001b[0;32mreturn\u001b[0m \u001b[0mself\u001b[0m\u001b[0;34m.\u001b[0m\u001b[0mrun\u001b[0m\u001b[0;34m(\u001b[0m\u001b[0;34m*\u001b[0m\u001b[0margs\u001b[0m\u001b[0;34m,\u001b[0m \u001b[0;34m**\u001b[0m\u001b[0mkwargs\u001b[0m\u001b[0;34m)\u001b[0m\u001b[0;34m\u001b[0m\u001b[0m\n\u001b[0m\u001b[1;32m    421\u001b[0m         \u001b[0;32mfinally\u001b[0m\u001b[0;34m:\u001b[0m\u001b[0;34m\u001b[0m\u001b[0m\n\u001b[1;32m    422\u001b[0m             \u001b[0mself\u001b[0m\u001b[0;34m.\u001b[0m\u001b[0mpop_request\u001b[0m\u001b[0;34m(\u001b[0m\u001b[0;34m)\u001b[0m\u001b[0;34m\u001b[0m\u001b[0m\n",
      "\u001b[0;32m/root/ha_tools/ops_ha/High_availability/ha_agent.pyc\u001b[0m in \u001b[0;36mmigrate\u001b[0;34m(instance_id)\u001b[0m\n\u001b[1;32m    132\u001b[0m         \u001b[0mzk\u001b[0m\u001b[0;34m.\u001b[0m\u001b[0mstart\u001b[0m\u001b[0;34m(\u001b[0m\u001b[0;34m)\u001b[0m\u001b[0;34m\u001b[0m\u001b[0m\n\u001b[1;32m    133\u001b[0m         \u001b[0mha_agent\u001b[0m\u001b[0;34m.\u001b[0m\u001b[0mdebug\u001b[0m\u001b[0;34m(\u001b[0m\u001b[0;34m\"Removing Instance from pending\"\u001b[0m\u001b[0;34m)\u001b[0m\u001b[0;34m\u001b[0m\u001b[0m\n\u001b[0;32m--> 134\u001b[0;31m         \u001b[0mzk\u001b[0m\u001b[0;34m.\u001b[0m\u001b[0mdelete\u001b[0m\u001b[0;34m(\u001b[0m\u001b[0;34m\"/openstack_ha/instances/pending/\"\u001b[0m\u001b[0;34m+\u001b[0m\u001b[0mtmp_host\u001b[0m\u001b[0;34m+\u001b[0m\u001b[0;34m\"/\"\u001b[0m\u001b[0;34m+\u001b[0m\u001b[0minstance_id\u001b[0m\u001b[0;34m)\u001b[0m\u001b[0;34m\u001b[0m\u001b[0m\n\u001b[0m\u001b[1;32m    135\u001b[0m         \u001b[0;31m#zk.delete(\"/openstack_ha/instances/pending/\"+instance_id)\u001b[0m\u001b[0;34m\u001b[0m\u001b[0;34m\u001b[0m\u001b[0m\n\u001b[1;32m    136\u001b[0m \u001b[0;34m\u001b[0m\u001b[0m\n",
      "\u001b[0;32m/root/ha_tools/local/lib/python2.7/site-packages/kazoo/client.pyc\u001b[0m in \u001b[0;36mdelete\u001b[0;34m(self, path, version, recursive)\u001b[0m\n\u001b[1;32m   1291\u001b[0m             \u001b[0;32mreturn\u001b[0m \u001b[0mself\u001b[0m\u001b[0;34m.\u001b[0m\u001b[0m_delete_recursive\u001b[0m\u001b[0;34m(\u001b[0m\u001b[0mpath\u001b[0m\u001b[0;34m)\u001b[0m\u001b[0;34m\u001b[0m\u001b[0m\n\u001b[1;32m   1292\u001b[0m         \u001b[0;32melse\u001b[0m\u001b[0;34m:\u001b[0m\u001b[0;34m\u001b[0m\u001b[0m\n\u001b[0;32m-> 1293\u001b[0;31m             \u001b[0;32mreturn\u001b[0m \u001b[0mself\u001b[0m\u001b[0;34m.\u001b[0m\u001b[0mdelete_async\u001b[0m\u001b[0;34m(\u001b[0m\u001b[0mpath\u001b[0m\u001b[0;34m,\u001b[0m \u001b[0mversion\u001b[0m\u001b[0;34m)\u001b[0m\u001b[0;34m.\u001b[0m\u001b[0mget\u001b[0m\u001b[0;34m(\u001b[0m\u001b[0;34m)\u001b[0m\u001b[0;34m\u001b[0m\u001b[0m\n\u001b[0m\u001b[1;32m   1294\u001b[0m \u001b[0;34m\u001b[0m\u001b[0m\n\u001b[1;32m   1295\u001b[0m     \u001b[0;32mdef\u001b[0m \u001b[0mdelete_async\u001b[0m\u001b[0;34m(\u001b[0m\u001b[0mself\u001b[0m\u001b[0;34m,\u001b[0m \u001b[0mpath\u001b[0m\u001b[0;34m,\u001b[0m \u001b[0mversion\u001b[0m\u001b[0;34m=\u001b[0m\u001b[0;34m-\u001b[0m\u001b[0;36m1\u001b[0m\u001b[0;34m)\u001b[0m\u001b[0;34m:\u001b[0m\u001b[0;34m\u001b[0m\u001b[0m\n",
      "\u001b[0;32m/root/ha_tools/local/lib/python2.7/site-packages/kazoo/handlers/utils.pyc\u001b[0m in \u001b[0;36mget\u001b[0;34m(self, block, timeout)\u001b[0m\n\u001b[1;32m     76\u001b[0m                     \u001b[0;32mif\u001b[0m \u001b[0mself\u001b[0m\u001b[0;34m.\u001b[0m\u001b[0m_exception\u001b[0m \u001b[0;32mis\u001b[0m \u001b[0mNone\u001b[0m\u001b[0;34m:\u001b[0m\u001b[0;34m\u001b[0m\u001b[0m\n\u001b[1;32m     77\u001b[0m                         \u001b[0;32mreturn\u001b[0m \u001b[0mself\u001b[0m\u001b[0;34m.\u001b[0m\u001b[0mvalue\u001b[0m\u001b[0;34m\u001b[0m\u001b[0m\n\u001b[0;32m---> 78\u001b[0;31m                     \u001b[0;32mraise\u001b[0m \u001b[0mself\u001b[0m\u001b[0;34m.\u001b[0m\u001b[0m_exception\u001b[0m\u001b[0;34m\u001b[0m\u001b[0m\n\u001b[0m\u001b[1;32m     79\u001b[0m \u001b[0;34m\u001b[0m\u001b[0m\n\u001b[1;32m     80\u001b[0m             \u001b[0;31m# if we get to this point we timeout\u001b[0m\u001b[0;34m\u001b[0m\u001b[0;34m\u001b[0m\u001b[0m\n",
      "\u001b[0;31mNoNodeError\u001b[0m: ((), {})"
     ]
    }
   ],
   "source": [
    "migrate('e3447db6-b619-4e3f-8673-1605cd1e655a')"
   ]
  },
  {
   "cell_type": "code",
   "execution_count": 2,
   "metadata": {
    "collapsed": false
   },
   "outputs": [
    {
     "name": "stdout",
     "output_type": "stream",
     "text": [
      "2016-09-08 09:13:34,603 - ha_agent - DEBUG - Inside the info_collection...!\n",
      "2016-09-08 09:13:34,605 - novaclient.client - DEBUG - New session created for: (http://30.20.0.9:5000)\n",
      "2016-09-08 09:13:34,776 - novaclient.client - DEBUG - New session created for: (http://172.30.64.11:8774)\n"
     ]
    }
   ],
   "source": [
    "instance_object,info,ip_list,bdm,extra = info_collection(\"deacd59a-3927-4a12-b10a-2b5195b5da61\",cinder)"
   ]
  },
  {
   "cell_type": "code",
   "execution_count": 3,
   "metadata": {
    "collapsed": false
   },
   "outputs": [
    {
     "name": "stdout",
     "output_type": "stream",
     "text": [
      "({}, {u'/dev/vdb': u'6a254f00-36fa-4ddb-abd9-7a51f8fa7c16'})\n"
     ]
    }
   ],
   "source": [
    "print(bdm,extra)"
   ]
  },
  {
   "cell_type": "code",
   "execution_count": 13,
   "metadata": {
    "collapsed": false
   },
   "outputs": [
    {
     "name": "stdout",
     "output_type": "stream",
     "text": [
      "True\n",
      "empty\n"
     ]
    }
   ],
   "source": [
    "\n",
    "print(bool(extra))\n",
    "if (bool(extra)):\n",
    "    print (\"empty\")"
   ]
  },
  {
   "cell_type": "code",
   "execution_count": 3,
   "metadata": {
    "collapsed": false
   },
   "outputs": [
    {
     "name": "stdout",
     "output_type": "stream",
     "text": [
      "2016-09-08 11:59:18,447 - novaclient.client - DEBUG - New session created for: (http://30.20.0.9:5000)\n",
      "2016-09-08 11:59:18,605 - novaclient.client - DEBUG - New session created for: (http://172.30.64.11:8774)\n"
     ]
    }
   ],
   "source": [
    "instance=nova.servers.list()\n",
    "server = nova.servers.find(name=\"testing12-50\")"
   ]
  },
  {
   "cell_type": "code",
   "execution_count": 17,
   "metadata": {
    "collapsed": false
   },
   "outputs": [
    {
     "name": "stdout",
     "output_type": "stream",
     "text": [
      "<type 'list'>\n",
      "87\n"
     ]
    }
   ],
   "source": [
    "print(type(instance))\n",
    "li=0\n",
    "host_name=server._info['OS-EXT-SRV-ATTR:host']\n",
    "for i in instance:\n",
    "    if i._info['OS-EXT-SRV-ATTR:host']=='node-1.domain.tld':\n",
    "        li=1+li\n",
    "print (li)"
   ]
  },
  {
   "cell_type": "code",
   "execution_count": 16,
   "metadata": {
    "collapsed": true
   },
   "outputs": [],
   "source": [
    "vlo.update(extra)"
   ]
  },
  {
   "cell_type": "code",
   "execution_count": 17,
   "metadata": {
    "collapsed": false
   },
   "outputs": [
    {
     "name": "stdout",
     "output_type": "stream",
     "text": [
      "{u'/dev/vdb': u'6a254f00-36fa-4ddb-abd9-7a51f8fa7c16'}\n"
     ]
    }
   ],
   "source": [
    "print(vlo)"
   ]
  },
  {
   "cell_type": "code",
   "execution_count": null,
   "metadata": {
    "collapsed": true
   },
   "outputs": [],
   "source": []
  }
 ],
 "metadata": {
  "kernelspec": {
   "display_name": "Python 2",
   "language": "python",
   "name": "python2"
  }
 },
 "nbformat": 4,
 "nbformat_minor": 1
}
