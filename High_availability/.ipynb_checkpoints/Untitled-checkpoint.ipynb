{
 "cells": [
  {
   "cell_type": "code",
   "execution_count": 4,
   "metadata": {
    "collapsed": false
   },
   "outputs": [],
   "source": [
    "from common_functions import *\n",
    "from ha_agent import *\n",
    "neutron = neutron_client.Client(username=user,\n",
    "                                            password=passwd,\n",
    "                                            tenant_name=tenant,\n",
    "                                            auth_url=\"http://%s:5000/v2.0\"%controller_ip)\n",
    "cinder = cinder_client.Client(1,user,passwd,tenant,\"http://%s:5000/v2.0\"%controller_ip)\n",
    "nova = nova_client.Client(2,user,passwd,tenant,\"http://%s:5000/v2.0\"%controller_ip,connection_pool=True)"
   ]
  },
  {
   "cell_type": "code",
   "execution_count": 3,
   "metadata": {
    "collapsed": false
   },
   "outputs": [
    {
     "name": "stdout",
     "output_type": "stream",
     "text": [
      "2016-11-18 07:05:32,547 - ha_agent - DEBUG - Inside the info_collection...!\n",
      "2016-11-18 07:05:32,549 - novaclient.client - DEBUG - New session created for: (http://30.20.0.2:5000)\n",
      "2016-11-18 07:05:32,588 - novaclient.client - DEBUG - New session created for: (http://192.168.30.51:8774)\n",
      "2016-11-18 07:05:32,766 - ha_agent - DEBUG - Inside the info_collection...!\n",
      "2016-11-18 07:05:32,998 - ha_agent - DEBUG - Information Collected\n",
      "2016-11-18 07:05:33,006 - ha_agent - DEBUG - Delete on Terminate Status Updated\n",
      "2016-11-18 07:05:33,315 - ha_agent - WARNING - Exception in deleting instance...!\n",
      "2016-11-18 07:05:33,316 - ha_agent - ERROR - \n",
      "Traceback (most recent call last):\n",
      "  File \"common_functions.py\", line 209, in delete_instance_status\n",
      "    raise Exception(\"poll\")\n",
      "Exception: poll\n",
      "2016-11-18 07:05:38,403 - ha_agent - WARNING - Exception in deleting instance...!\n",
      "2016-11-18 07:05:38,403 - ha_agent - ERROR - \n",
      "Traceback (most recent call last):\n",
      "  File \"common_functions.py\", line 204, in delete_instance_status\n",
      "    tmp_ins = nova.servers.get(instance_object.id)\n",
      "  File \"/usr/lib/python2.7/dist-packages/novaclient/v2/servers.py\", line 676, in get\n",
      "    return self._get(\"/servers/%s\" % base.getid(server), \"server\")\n",
      "  File \"/usr/lib/python2.7/dist-packages/novaclient/base.py\", line 339, in _get\n",
      "    resp, body = self.api.client.get(url)\n",
      "  File \"/usr/lib/python2.7/dist-packages/novaclient/client.py\", line 452, in get\n",
      "    return self._cs_request(url, 'GET', **kwargs)\n",
      "  File \"/usr/lib/python2.7/dist-packages/novaclient/client.py\", line 430, in _cs_request\n",
      "    resp, body = self._time_request(url, method, **kwargs)\n",
      "  File \"/usr/lib/python2.7/dist-packages/novaclient/client.py\", line 403, in _time_request\n",
      "    resp, body = self.request(url, method, **kwargs)\n",
      "  File \"/usr/lib/python2.7/dist-packages/novaclient/client.py\", line 397, in request\n",
      "    raise exceptions.from_response(resp, body, url, method)\n",
      "NotFound: Instance b2cffe22-7a11-4e57-9370-d7ce07a94426 could not be found. (HTTP 404) (Request-ID: req-fc31cacd-9e32-4244-96fb-13495bf3c93c)\n",
      "2016-11-18 07:05:38,405 - ha_agent - DEBUG - Instance Not Found hence deleted\n",
      "2016-11-18 07:05:38,406 - ha_agent - DEBUG - Old Instance deleted\n",
      "2016-11-18 07:05:39,038 - ha_agent - WARNING - Exception: checking the instance status after creation...!\n",
      "2016-11-18 07:05:39,039 - ha_agent - ERROR - \n",
      "Traceback (most recent call last):\n",
      "  File \"common_functions.py\", line 273, in create_instance_status\n",
      "    raise Exception(\"poll\")\n",
      "Exception: poll\n",
      "2016-11-18 07:05:44,225 - ha_agent - WARNING - Exception: checking the instance status after creation...!\n",
      "2016-11-18 07:05:44,226 - ha_agent - ERROR - \n",
      "Traceback (most recent call last):\n",
      "  File \"common_functions.py\", line 273, in create_instance_status\n",
      "    raise Exception(\"poll\")\n",
      "Exception: poll\n",
      "2016-11-18 07:05:49,376 - ha_agent - WARNING - Exception: checking the instance status after creation...!\n",
      "2016-11-18 07:05:49,377 - ha_agent - ERROR - \n",
      "Traceback (most recent call last):\n",
      "  File \"common_functions.py\", line 273, in create_instance_status\n",
      "    raise Exception(\"poll\")\n",
      "Exception: poll\n",
      "2016-11-18 07:05:54,551 - ha_agent - DEBUG - After creation:  Instance in active state\n",
      "2016-11-18 07:05:54,552 - ha_agent - DEBUG - Recreate Finished\n",
      "{u'links': [{u'href': u'http://192.168.30.51:8774/v2/0b2cf6dd12b54710aba1e92c0a6d60d0/servers/1c97fe26-faa3-4380-ab82-51d25c1cc029', u'rel': u'self'}, {u'href': u'http://192.168.30.51:8774/0b2cf6dd12b54710aba1e92c0a6d60d0/servers/1c97fe26-faa3-4380-ab82-51d25c1cc029', u'rel': u'bookmark'}], u'OS-DCF:diskConfig': u'AUTO', u'id': u'1c97fe26-faa3-4380-ab82-51d25c1cc029', u'security_groups': [{u'name': u'default'}], u'adminPass': u'csgkcuoADZF7'}\n",
      "2016-11-18 07:05:54,553 - ha_agent - ERROR - Overall Task Exception \n",
      "Traceback (most recent call last):\n",
      "  File \"ha_agent.py\", line 80, in migrate\n",
      "    new_host_name= new_info['OS-EXT-SRV-ATTR:host']\n",
      "KeyError: 'OS-EXT-SRV-ATTR:host'\n",
      "2016-11-18 07:05:54,564 - ha_agent - ERROR - Exception hence adding to failure zNode\n",
      "2016-11-18 07:05:54,603 - ha_agent - DEBUG - Removing Instance from pending\n"
     ]
    },
    {
     "ename": "NoNodeError",
     "evalue": "((), {})",
     "output_type": "error",
     "traceback": [
      "\u001b[0;31m---------------------------------------------------------------------------\u001b[0m",
      "\u001b[0;31mNoNodeError\u001b[0m                               Traceback (most recent call last)",
      "\u001b[0;32m<ipython-input-3-9804f62017b1>\u001b[0m in \u001b[0;36m<module>\u001b[0;34m()\u001b[0m\n\u001b[0;32m----> 1\u001b[0;31m \u001b[0mmigrate\u001b[0m\u001b[0;34m(\u001b[0m\u001b[0;34m\"b2cffe22-7a11-4e57-9370-d7ce07a94426\"\u001b[0m\u001b[0;34m,\u001b[0m\u001b[0;34m\"13_15_17\"\u001b[0m\u001b[0;34m)\u001b[0m\u001b[0;34m\u001b[0m\u001b[0m\n\u001b[0m",
      "\u001b[0;32m/usr/local/lib/python2.7/dist-packages/celery/local.pyc\u001b[0m in \u001b[0;36m__call__\u001b[0;34m(self, *a, **kw)\u001b[0m\n\u001b[1;32m    189\u001b[0m \u001b[0;34m\u001b[0m\u001b[0m\n\u001b[1;32m    190\u001b[0m     \u001b[0;32mdef\u001b[0m \u001b[0m__call__\u001b[0m\u001b[0;34m(\u001b[0m\u001b[0mself\u001b[0m\u001b[0;34m,\u001b[0m \u001b[0;34m*\u001b[0m\u001b[0ma\u001b[0m\u001b[0;34m,\u001b[0m \u001b[0;34m**\u001b[0m\u001b[0mkw\u001b[0m\u001b[0;34m)\u001b[0m\u001b[0;34m:\u001b[0m\u001b[0;34m\u001b[0m\u001b[0m\n\u001b[0;32m--> 191\u001b[0;31m         \u001b[0;32mreturn\u001b[0m \u001b[0mself\u001b[0m\u001b[0;34m.\u001b[0m\u001b[0m_get_current_object\u001b[0m\u001b[0;34m(\u001b[0m\u001b[0;34m)\u001b[0m\u001b[0;34m(\u001b[0m\u001b[0;34m*\u001b[0m\u001b[0ma\u001b[0m\u001b[0;34m,\u001b[0m \u001b[0;34m**\u001b[0m\u001b[0mkw\u001b[0m\u001b[0;34m)\u001b[0m\u001b[0;34m\u001b[0m\u001b[0m\n\u001b[0m\u001b[1;32m    192\u001b[0m \u001b[0;34m\u001b[0m\u001b[0m\n\u001b[1;32m    193\u001b[0m     \u001b[0;32mdef\u001b[0m \u001b[0m__len__\u001b[0m\u001b[0;34m(\u001b[0m\u001b[0mself\u001b[0m\u001b[0;34m)\u001b[0m\u001b[0;34m:\u001b[0m\u001b[0;34m\u001b[0m\u001b[0m\n",
      "\u001b[0;32m/usr/local/lib/python2.7/dist-packages/celery/app/task.pyc\u001b[0m in \u001b[0;36m__call__\u001b[0;34m(self, *args, **kwargs)\u001b[0m\n\u001b[1;32m    378\u001b[0m             \u001b[0;32mif\u001b[0m \u001b[0mself\u001b[0m\u001b[0;34m.\u001b[0m\u001b[0m__self__\u001b[0m \u001b[0;32mis\u001b[0m \u001b[0;32mnot\u001b[0m \u001b[0mNone\u001b[0m\u001b[0;34m:\u001b[0m\u001b[0;34m\u001b[0m\u001b[0m\n\u001b[1;32m    379\u001b[0m                 \u001b[0;32mreturn\u001b[0m \u001b[0mself\u001b[0m\u001b[0;34m.\u001b[0m\u001b[0mrun\u001b[0m\u001b[0;34m(\u001b[0m\u001b[0mself\u001b[0m\u001b[0;34m.\u001b[0m\u001b[0m__self__\u001b[0m\u001b[0;34m,\u001b[0m \u001b[0;34m*\u001b[0m\u001b[0margs\u001b[0m\u001b[0;34m,\u001b[0m \u001b[0;34m**\u001b[0m\u001b[0mkwargs\u001b[0m\u001b[0;34m)\u001b[0m\u001b[0;34m\u001b[0m\u001b[0m\n\u001b[0;32m--> 380\u001b[0;31m             \u001b[0;32mreturn\u001b[0m \u001b[0mself\u001b[0m\u001b[0;34m.\u001b[0m\u001b[0mrun\u001b[0m\u001b[0;34m(\u001b[0m\u001b[0;34m*\u001b[0m\u001b[0margs\u001b[0m\u001b[0;34m,\u001b[0m \u001b[0;34m**\u001b[0m\u001b[0mkwargs\u001b[0m\u001b[0;34m)\u001b[0m\u001b[0;34m\u001b[0m\u001b[0m\n\u001b[0m\u001b[1;32m    381\u001b[0m         \u001b[0;32mfinally\u001b[0m\u001b[0;34m:\u001b[0m\u001b[0;34m\u001b[0m\u001b[0m\n\u001b[1;32m    382\u001b[0m             \u001b[0mself\u001b[0m\u001b[0;34m.\u001b[0m\u001b[0mpop_request\u001b[0m\u001b[0;34m(\u001b[0m\u001b[0;34m)\u001b[0m\u001b[0;34m\u001b[0m\u001b[0m\n",
      "\u001b[0;32m/root/ha_tools/ops_ha/High_availability/ha_agent.py\u001b[0m in \u001b[0;36mmigrate\u001b[0;34m(instance_id, time_suffix, remigration, host_name)\u001b[0m\n\u001b[1;32m    151\u001b[0m                 \u001b[0;32mif\u001b[0m\u001b[0;34m(\u001b[0m\u001b[0merror_step\u001b[0m\u001b[0;34m<\u001b[0m\u001b[0;36m8\u001b[0m\u001b[0;34m)\u001b[0m\u001b[0;34m:\u001b[0m\u001b[0;34m\u001b[0m\u001b[0m\n\u001b[1;32m    152\u001b[0m                     \u001b[0;31m#Unmodified Old_instance_json\u001b[0m\u001b[0;34m\u001b[0m\u001b[0;34m\u001b[0m\u001b[0m\n\u001b[0;32m--> 153\u001b[0;31m                     \u001b[0mzk\u001b[0m\u001b[0;34m.\u001b[0m\u001b[0mcreate\u001b[0m\u001b[0;34m(\u001b[0m\u001b[0;34m\"/openstac k_ha/instances/failure/\"\u001b[0m\u001b[0;34m+\u001b[0m\u001b[0mtmp_host\u001b[0m\u001b[0;34m+\u001b[0m\u001b[0;34m\"/\"\u001b[0m\u001b[0;34m+\u001b[0m\u001b[0minstance_id\u001b[0m\u001b[0;34m,\u001b[0m\u001b[0mold_json_encoded\u001b[0m\u001b[0;34m)\u001b[0m\u001b[0;34m\u001b[0m\u001b[0m\n\u001b[0m\u001b[1;32m    154\u001b[0m                     \u001b[0mjson_dump_write\u001b[0m\u001b[0;34m(\u001b[0m\u001b[0mfilename\u001b[0m\u001b[0;34m=\u001b[0m\u001b[0mjson_error_instance\u001b[0m\u001b[0;34m,\u001b[0m\u001b[0mdata\u001b[0m\u001b[0;34m=\u001b[0m\u001b[0mold_json\u001b[0m\u001b[0;34m)\u001b[0m\u001b[0;34m\u001b[0m\u001b[0m\n\u001b[1;32m    155\u001b[0m \u001b[0;34m\u001b[0m\u001b[0m\n",
      "\u001b[0;32m/usr/lib/python2.7/dist-packages/kazoo/client.pyc\u001b[0m in \u001b[0;36mcreate\u001b[0;34m(self, path, value, acl, ephemeral, sequence, makepath)\u001b[0m\n\u001b[1;32m    832\u001b[0m         \u001b[0macl\u001b[0m \u001b[0;34m=\u001b[0m \u001b[0macl\u001b[0m \u001b[0;32mor\u001b[0m \u001b[0mself\u001b[0m\u001b[0;34m.\u001b[0m\u001b[0mdefault_acl\u001b[0m\u001b[0;34m\u001b[0m\u001b[0m\n\u001b[1;32m    833\u001b[0m         return self.create_async(path, value, acl=acl, ephemeral=ephemeral,\n\u001b[0;32m--> 834\u001b[0;31m                                  sequence=sequence, makepath=makepath).get()\n\u001b[0m\u001b[1;32m    835\u001b[0m \u001b[0;34m\u001b[0m\u001b[0m\n\u001b[1;32m    836\u001b[0m     def create_async(self, path, value=b\"\", acl=None, ephemeral=False,\n",
      "\u001b[0;32m/usr/lib/python2.7/dist-packages/kazoo/handlers/utils.pyc\u001b[0m in \u001b[0;36mget\u001b[0;34m(self, block, timeout)\u001b[0m\n\u001b[1;32m     76\u001b[0m                     \u001b[0;32mif\u001b[0m \u001b[0mself\u001b[0m\u001b[0;34m.\u001b[0m\u001b[0m_exception\u001b[0m \u001b[0;32mis\u001b[0m \u001b[0mNone\u001b[0m\u001b[0;34m:\u001b[0m\u001b[0;34m\u001b[0m\u001b[0m\n\u001b[1;32m     77\u001b[0m                         \u001b[0;32mreturn\u001b[0m \u001b[0mself\u001b[0m\u001b[0;34m.\u001b[0m\u001b[0mvalue\u001b[0m\u001b[0;34m\u001b[0m\u001b[0m\n\u001b[0;32m---> 78\u001b[0;31m                     \u001b[0;32mraise\u001b[0m \u001b[0mself\u001b[0m\u001b[0;34m.\u001b[0m\u001b[0m_exception\u001b[0m\u001b[0;34m\u001b[0m\u001b[0m\n\u001b[0m\u001b[1;32m     79\u001b[0m \u001b[0;34m\u001b[0m\u001b[0m\n\u001b[1;32m     80\u001b[0m             \u001b[0;31m# if we get to this point we timeout\u001b[0m\u001b[0;34m\u001b[0m\u001b[0;34m\u001b[0m\u001b[0m\n",
      "\u001b[0;31mNoNodeError\u001b[0m: ((), {})"
     ]
    }
   ],
   "source": [
    "migrate(\"b2cffe22-7a11-4e57-9370-d7ce07a94426\",\"13_15_17\")"
   ]
  },
  {
   "cell_type": "code",
   "execution_count": 13,
   "metadata": {
    "collapsed": false
   },
   "outputs": [
    {
     "name": "stdout",
     "output_type": "stream",
     "text": [
      "2016-09-10 10:52:25,839 - ha_agent - DEBUG - Inside the info_collection...!\n"
     ]
    }
   ],
   "source": [
    " instance_object,info,ip_list,bdm,extra = info_collection(nova,'66f08848-df22-4d94-8f70-7c766bcff5b6',cinder)"
   ]
  },
  {
   "cell_type": "code",
   "execution_count": 14,
   "metadata": {
    "collapsed": true
   },
   "outputs": [],
   "source": [
    "nics = get_fixed_ip(info,neutron)"
   ]
  },
  {
   "cell_type": "code",
   "execution_count": 15,
   "metadata": {
    "collapsed": false
   },
   "outputs": [
    {
     "name": "stdout",
     "output_type": "stream",
     "text": [
      "[{'net-id': u'28a043bf-6806-4806-9fa4-d05062ca20be', u'v4-fixed-ip': u'40.20.0.13'}]\n"
     ]
    }
   ],
   "source": [
    "print(nics)"
   ]
  },
  {
   "cell_type": "code",
   "execution_count": 12,
   "metadata": {
    "collapsed": false
   },
   "outputs": [
    {
     "name": "stdout",
     "output_type": "stream",
     "text": [
      "tedsafa\n"
     ]
    }
   ],
   "source": [
    "if not nics:\n",
    "    print(\"tedsafa\")"
   ]
  },
  {
   "cell_type": "code",
   "execution_count": 11,
   "metadata": {
    "collapsed": false
   },
   "outputs": [
    {
     "name": "stdout",
     "output_type": "stream",
     "text": [
      "[<Server: ha_test-2>, <Server: ha_test-1>, <Server: ha_test0-4>, <Server: ha_test0-1>, <Server: ha_test-5>, <Server: ha_test-4>, <Server: ha_test-3>]\n",
      "1c97fe26-faa3-4380-ab82-51d25c1cc029\n",
      "2bc7d7e535cbc82c0092a4b8c3025d84c23d6a71f0246612c3135528\n",
      "92cb0e8a-03ca-46ff-8a84-2d8cf8017f9c\n",
      "dc122c58e4e018024c7a4bec10b9eaa7a8270be5fdb33522e4c2c107\n",
      "c6c38240-de30-4b7d-86ea-697c7a29457e\n",
      "2bc7d7e535cbc82c0092a4b8c3025d84c23d6a71f0246612c3135528\n",
      "f0a58c35-435c-44eb-8ef6-bcc951edbff9\n",
      "2bc7d7e535cbc82c0092a4b8c3025d84c23d6a71f0246612c3135528\n",
      "584154e7-2911-48c8-beca-1b89a7eb5430\n",
      "2bc7d7e535cbc82c0092a4b8c3025d84c23d6a71f0246612c3135528\n",
      "7018dde0-eb8b-4b4c-ad1c-71c74b711fa6\n",
      "dc122c58e4e018024c7a4bec10b9eaa7a8270be5fdb33522e4c2c107\n",
      "2593a50a-1d6e-4241-b25f-3ce7267ef317\n",
      "2bc7d7e535cbc82c0092a4b8c3025d84c23d6a71f0246612c3135528\n"
     ]
    }
   ],
   "source": [
    "server=nova.servers.list()\n",
    "print(server)\n",
    "for instance in server:\n",
    "    print(instance.id)    \n",
    "    #migrate(instance.id,\"13_11_2016\")"
   ]
  },
  {
   "cell_type": "code",
   "execution_count": 16,
   "metadata": {
    "collapsed": false
   },
   "outputs": [
    {
     "name": "stdout",
     "output_type": "stream",
     "text": [
      "{'instance_name': 'instance_name', 'host_name': 'tmp_hosdgdst'}\n",
      "{'instance_name': 'jhdsfads', 'old_instance_name': '123456', 'host_name': 'tmp_hosdgdst'}\n"
     ]
    }
   ],
   "source": [
    "data={\"instance_name\":\"instance_name\",\"host_name\":\"tmp_host\"}   \n",
    "data1={\"instance_name\":\"instance_name\",\"host_name\":\"tmp_hosdgdst\"}   \n",
    "data.update(data1)\n",
    "print(data)\n",
    "data[\"instance_name\"]=\"jhdsfads\"\n",
    "data[\"old_instance_name\"]=\"123456\"\n",
    "print(data)"
   ]
  },
  {
   "cell_type": "code",
   "execution_count": 9,
   "metadata": {
    "collapsed": false
   },
   "outputs": [
    {
     "name": "stdout",
     "output_type": "stream",
     "text": [
      "17_11_2016_11_8\n"
     ]
    }
   ],
   "source": [
    "date=str(host_down_time.tm_mday)+\"_\"+str(host_down_time.tm_mon)+\"_\"+str(host_down_time.tm_year)+\"_\"+str(host_down_time.tm_hour)\\\n",
    "+\"_\"+str(host_down_time.tm_min)\n",
    "print(date)"
   ]
  },
  {
   "cell_type": "code",
   "execution_count": 10,
   "metadata": {
    "collapsed": false
   },
   "outputs": [
    {
     "name": "stdout",
     "output_type": "stream",
     "text": [
      "5c2b43d3-b978-4a27-bc04-945fc7d731e7\n",
      "88853bd2-09e8-48f9-8868-37bef60c721f\n",
      "265a04ea-3f88-42b0-a7ca-b3c4d90726c8\n",
      "1fb596ca-9f42-4210-a9ad-b4d86b1435bd\n",
      "108632ae-a79f-4f04-9a0f-f6a4cf97585f\n",
      "bc48ceb2-a14a-421a-99db-1d4d7ef1f4aa\n",
      "9fdacaec-a7a2-4759-9270-4ca5c20dc690\n",
      "4c72904c-4dcc-461f-a406-f17a2082b81a\n",
      "a491a39c-6a7a-40c2-aef9-28cfe58bc22c\n",
      "040697c7-b8ad-4add-9456-aa8339126e66\n",
      "ee569c28-1b25-401e-ba65-62b2eb144639\n",
      "b926d749-469b-468a-820e-b42c74f45f1b\n",
      "c133f687-e391-4e49-8eaf-2f5aa2a61b63\n",
      "19b87149-f647-4294-9dcd-1edebb914b73\n",
      "2a74ca43-3ec2-4f0b-824b-a1b56bdcca36\n"
     ]
    }
   ],
   "source": [
    "import kazoo\n",
    "import json\n",
    "from kazoo.client import KazooClient\n",
    "zk = KazooClient(hosts='192.168.30.54:2181')\n",
    "zk.start()\n",
    "host_name=\"node-23.naanal.local\"\n",
    "new_instance_details=zk.get_children(\"/openstack_ha/instances/migrated/\"+host_name)\n",
    "for instance in new_instance_details:   \n",
    "    instance_details=zk.get(\"/openstack_ha/instances/migrated/\"+host_name+\"/\"+instance)[0]\n",
    "    my_decoded_str = instance_details.decode()    \n",
    "    output=json.loads(my_decoded_str)\n",
    "    print(output[\"instance_id\"])\n",
    "    #pass the instance_id to the migrate function recreate the instance\n",
    "    #remigration create instance to particular node i.e)down node\n",
    "    #so we needed to pass host_name to create an instance\n"
   ]
  },
  {
   "cell_type": "code",
   "execution_count": 17,
   "metadata": {
    "collapsed": false
   },
   "outputs": [
    {
     "name": "stdout",
     "output_type": "stream",
     "text": [
      "f6da9cc1-e2b1-4775-8e3f-8324121cfa8a\n",
      "265a04ea-3f88-42b0-a7ca-b3c4d90726c8\n",
      "2a74ca43-3ec2-4f0b-824b-a1b56bdcca36\n",
      "88853bd2-09e8-48f9-8868-37bef60c721f\n",
      "ee569c28-1b25-401e-ba65-62b2eb144639\n",
      "c133f687-e391-4e49-8eaf-2f5aa2a61b63\n",
      "abde6793-4365-4b79-a053-af5b2bd93eb7\n"
     ]
    }
   ],
   "source": [
    "import json\n",
    "file_name='migration_error_instance_13_11_2016.json'\n",
    "vaild_json_file_name='useful_input.json'\n",
    "f2 = open(file_name)\n",
    "tempstr = f2.read()\n",
    "tempstr = tempstr[:-1]\n",
    "tempstr = '['+tempstr\n",
    "tempstr = tempstr + ']'\n",
    "with open(vaild_json_file_name, 'w') as perfect_file:\n",
    "    perfect_file.writelines(tempstr)\n",
    "with open(vaild_json_file_name) as json_data:      \n",
    "    instances = json.load(json_data)\n",
    "    #for read as string using below data\n",
    "    #data=json.dumps(d,sort_keys=True,indent=2)   \n",
    "    for instance in instances:\n",
    "        print (instance[''])"
   ]
  },
  {
   "cell_type": "code",
   "execution_count": 23,
   "metadata": {
    "collapsed": false
   },
   "outputs": [],
   "source": [
    "string=\"shan\"\n",
    "string1=None\n",
    "if  string and string1:\n",
    "    print(\"true\")"
   ]
  },
  {
   "cell_type": "code",
   "execution_count": null,
   "metadata": {
    "collapsed": true
   },
   "outputs": [],
   "source": []
  }
 ],
 "metadata": {
  "kernelspec": {
   "display_name": "Python 2",
   "language": "python",
   "name": "python2"
  },
  "language_info": {
   "codemirror_mode": {
    "name": "ipython",
    "version": 2
   },
   "file_extension": ".py",
   "mimetype": "text/x-python",
   "name": "python",
   "nbconvert_exporter": "python",
   "pygments_lexer": "ipython2",
   "version": "2.7.6"
  }
 },
 "nbformat": 4,
 "nbformat_minor": 1
}
