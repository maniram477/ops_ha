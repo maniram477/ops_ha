{
 "cells": [
  {
   "cell_type": "code",
   "execution_count": 1,
   "metadata": {
    "collapsed": false
   },
   "outputs": [],
   "source": [
    "from common_functions import *\n",
    "neutron = neutron_client.Client(username=user,\n",
    "                                            password=passwd,\n",
    "                                            tenant_name=tenant,\n",
    "                                            auth_url=\"http://%s:5000/v2.0\"%controller_ip)\n",
    "cinder = cinder_client.Client(1,user,passwd,tenant,\"http://%s:5000/v2.0\"%controller_ip)\n",
    "nova = nova_client.Client(2,user,passwd,tenant,\"http://%s:5000/v2.0\"%controller_ip,connection_pool=True)\n",
    "from ha_agent import *\n"
   ]
  },
  {
   "cell_type": "markdown",
   "metadata": {},
   "source": []
  },
  {
   "cell_type": "code",
   "execution_count": 10,
   "metadata": {
    "collapsed": false
   },
   "outputs": [
    {
     "name": "stdout",
     "output_type": "stream",
     "text": [
      "67074980-adb1-424e-ad19-dcf189b8b378\n"
     ]
    }
   ],
   "source": [
    "server = nova.servers.find(name=\"ha-6\")\n",
    "print(server.id)\n",
    "#server.delete()\n",
    "#server.force_delete()"
   ]
  },
  {
   "cell_type": "code",
   "execution_count": null,
   "metadata": {
    "collapsed": true
   },
   "outputs": [],
   "source": []
  }
 ],
 "metadata": {
  "kernelspec": {
   "display_name": "Python 2",
   "language": "python",
   "name": "python2"
  },
  "language_info": {
   "codemirror_mode": {
    "name": "ipython",
    "version": 2
   },
   "file_extension": ".py",
   "mimetype": "text/x-python",
   "name": "python",
   "nbconvert_exporter": "python",
   "pygments_lexer": "ipython2",
   "version": "2.7.6"
  }
 },
 "nbformat": 4,
 "nbformat_minor": 1
}
